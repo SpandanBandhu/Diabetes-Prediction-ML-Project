{
 "cells": [
  {
   "cell_type": "code",
   "execution_count": 21,
   "id": "2e37c577",
   "metadata": {},
   "outputs": [],
   "source": [
    "#import pandas\n",
    "import pandas as pd\n",
    "from sklearn.model_selection import train_test_split\n",
    "from sklearn.linear_model import LogisticRegression\n",
    "import numpy as np\n",
    "import matplotlib.pyplot as plt\n",
    "import seaborn as sns\n",
    "# import the metrics class\n",
    "from sklearn import metrics"
   ]
  },
  {
   "cell_type": "code",
   "execution_count": 22,
   "id": "8fb916a6",
   "metadata": {},
   "outputs": [],
   "source": [
    "col_names = ['pregnant', 'glucose', 'bp', 'skin', 'insulin', 'bmi', 'pedigree', 'age', 'label']"
   ]
  },
  {
   "cell_type": "code",
   "execution_count": 23,
   "id": "bc321a98",
   "metadata": {},
   "outputs": [
    {
     "data": {
      "text/html": [
       "<div>\n",
       "<style scoped>\n",
       "    .dataframe tbody tr th:only-of-type {\n",
       "        vertical-align: middle;\n",
       "    }\n",
       "\n",
       "    .dataframe tbody tr th {\n",
       "        vertical-align: top;\n",
       "    }\n",
       "\n",
       "    .dataframe thead th {\n",
       "        text-align: right;\n",
       "    }\n",
       "</style>\n",
       "<table border=\"1\" class=\"dataframe\">\n",
       "  <thead>\n",
       "    <tr style=\"text-align: right;\">\n",
       "      <th></th>\n",
       "      <th>pregnant</th>\n",
       "      <th>glucose</th>\n",
       "      <th>bp</th>\n",
       "      <th>skin</th>\n",
       "      <th>insulin</th>\n",
       "      <th>bmi</th>\n",
       "      <th>pedigree</th>\n",
       "      <th>age</th>\n",
       "      <th>label</th>\n",
       "    </tr>\n",
       "  </thead>\n",
       "  <tbody>\n",
       "    <tr>\n",
       "      <th>1</th>\n",
       "      <td>6</td>\n",
       "      <td>148</td>\n",
       "      <td>72</td>\n",
       "      <td>35</td>\n",
       "      <td>0</td>\n",
       "      <td>33.6</td>\n",
       "      <td>0.627</td>\n",
       "      <td>50</td>\n",
       "      <td>1</td>\n",
       "    </tr>\n",
       "    <tr>\n",
       "      <th>2</th>\n",
       "      <td>1</td>\n",
       "      <td>85</td>\n",
       "      <td>66</td>\n",
       "      <td>29</td>\n",
       "      <td>0</td>\n",
       "      <td>26.6</td>\n",
       "      <td>0.351</td>\n",
       "      <td>31</td>\n",
       "      <td>0</td>\n",
       "    </tr>\n",
       "    <tr>\n",
       "      <th>3</th>\n",
       "      <td>8</td>\n",
       "      <td>183</td>\n",
       "      <td>64</td>\n",
       "      <td>0</td>\n",
       "      <td>0</td>\n",
       "      <td>23.3</td>\n",
       "      <td>0.672</td>\n",
       "      <td>32</td>\n",
       "      <td>1</td>\n",
       "    </tr>\n",
       "    <tr>\n",
       "      <th>4</th>\n",
       "      <td>1</td>\n",
       "      <td>89</td>\n",
       "      <td>66</td>\n",
       "      <td>23</td>\n",
       "      <td>94</td>\n",
       "      <td>28.1</td>\n",
       "      <td>0.167</td>\n",
       "      <td>21</td>\n",
       "      <td>0</td>\n",
       "    </tr>\n",
       "    <tr>\n",
       "      <th>5</th>\n",
       "      <td>0</td>\n",
       "      <td>137</td>\n",
       "      <td>40</td>\n",
       "      <td>35</td>\n",
       "      <td>168</td>\n",
       "      <td>43.1</td>\n",
       "      <td>2.288</td>\n",
       "      <td>33</td>\n",
       "      <td>1</td>\n",
       "    </tr>\n",
       "  </tbody>\n",
       "</table>\n",
       "</div>"
      ],
      "text/plain": [
       "  pregnant glucose  bp skin insulin   bmi pedigree age label\n",
       "1        6     148  72   35       0  33.6    0.627  50     1\n",
       "2        1      85  66   29       0  26.6    0.351  31     0\n",
       "3        8     183  64    0       0  23.3    0.672  32     1\n",
       "4        1      89  66   23      94  28.1    0.167  21     0\n",
       "5        0     137  40   35     168  43.1    2.288  33     1"
      ]
     },
     "execution_count": 23,
     "metadata": {},
     "output_type": "execute_result"
    }
   ],
   "source": [
    "# load dataset\n",
    "pima = pd.read_csv(r\"C:\\Users\\User\\PycharmProjects\\testProj\\diabetes.csv\",header=None, names=col_names)\n",
    "pima=pima[1:]\n",
    "pima.head()"
   ]
  },
  {
   "cell_type": "code",
   "execution_count": 24,
   "id": "4f29477a",
   "metadata": {},
   "outputs": [],
   "source": [
    "#split dataset in features and target variable\n",
    "feature_cols = ['pregnant', 'insulin', 'bmi', 'age','glucose','bp','pedigree']"
   ]
  },
  {
   "cell_type": "code",
   "execution_count": 25,
   "id": "d44817e2",
   "metadata": {},
   "outputs": [
    {
     "data": {
      "text/html": [
       "<div>\n",
       "<style scoped>\n",
       "    .dataframe tbody tr th:only-of-type {\n",
       "        vertical-align: middle;\n",
       "    }\n",
       "\n",
       "    .dataframe tbody tr th {\n",
       "        vertical-align: top;\n",
       "    }\n",
       "\n",
       "    .dataframe thead th {\n",
       "        text-align: right;\n",
       "    }\n",
       "</style>\n",
       "<table border=\"1\" class=\"dataframe\">\n",
       "  <thead>\n",
       "    <tr style=\"text-align: right;\">\n",
       "      <th></th>\n",
       "      <th>glucose</th>\n",
       "      <th>bp</th>\n",
       "      <th>skin</th>\n",
       "      <th>insulin</th>\n",
       "      <th>bmi</th>\n",
       "      <th>pedigree</th>\n",
       "      <th>age</th>\n",
       "    </tr>\n",
       "  </thead>\n",
       "  <tbody>\n",
       "    <tr>\n",
       "      <th>1</th>\n",
       "      <td>148</td>\n",
       "      <td>72</td>\n",
       "      <td>35</td>\n",
       "      <td>0</td>\n",
       "      <td>33.6</td>\n",
       "      <td>0.627</td>\n",
       "      <td>50</td>\n",
       "    </tr>\n",
       "    <tr>\n",
       "      <th>2</th>\n",
       "      <td>85</td>\n",
       "      <td>66</td>\n",
       "      <td>29</td>\n",
       "      <td>0</td>\n",
       "      <td>26.6</td>\n",
       "      <td>0.351</td>\n",
       "      <td>31</td>\n",
       "    </tr>\n",
       "    <tr>\n",
       "      <th>3</th>\n",
       "      <td>183</td>\n",
       "      <td>64</td>\n",
       "      <td>0</td>\n",
       "      <td>0</td>\n",
       "      <td>23.3</td>\n",
       "      <td>0.672</td>\n",
       "      <td>32</td>\n",
       "    </tr>\n",
       "    <tr>\n",
       "      <th>4</th>\n",
       "      <td>89</td>\n",
       "      <td>66</td>\n",
       "      <td>23</td>\n",
       "      <td>94</td>\n",
       "      <td>28.1</td>\n",
       "      <td>0.167</td>\n",
       "      <td>21</td>\n",
       "    </tr>\n",
       "    <tr>\n",
       "      <th>5</th>\n",
       "      <td>137</td>\n",
       "      <td>40</td>\n",
       "      <td>35</td>\n",
       "      <td>168</td>\n",
       "      <td>43.1</td>\n",
       "      <td>2.288</td>\n",
       "      <td>33</td>\n",
       "    </tr>\n",
       "  </tbody>\n",
       "</table>\n",
       "</div>"
      ],
      "text/plain": [
       "  glucose  bp skin insulin   bmi pedigree age\n",
       "1     148  72   35       0  33.6    0.627  50\n",
       "2      85  66   29       0  26.6    0.351  31\n",
       "3     183  64    0       0  23.3    0.672  32\n",
       "4      89  66   23      94  28.1    0.167  21\n",
       "5     137  40   35     168  43.1    2.288  33"
      ]
     },
     "execution_count": 25,
     "metadata": {},
     "output_type": "execute_result"
    }
   ],
   "source": [
    "X = pima.drop(['label','pregnant'],axis=1)\n",
    "X.head()"
   ]
  },
  {
   "cell_type": "code",
   "execution_count": 26,
   "id": "4f0579db",
   "metadata": {},
   "outputs": [
    {
     "data": {
      "text/plain": [
       "array(['1', '0', '1', '0', '1', '0', '1', '0', '1', '1', '0', '1', '0',\n",
       "       '1', '1', '1', '1', '1', '0', '1', '0', '0', '1', '1', '1', '1',\n",
       "       '1', '0', '0', '0', '0', '1', '0', '0', '0', '0', '0', '1', '1',\n",
       "       '1', '0', '0', '0', '1', '0', '1', '0', '0', '1', '0', '0', '0',\n",
       "       '0', '1', '0', '0', '1', '0', '0', '0', '0', '1', '0', '0', '1',\n",
       "       '0', '1', '0', '0', '0', '1', '0', '1', '0', '0', '0', '0', '0',\n",
       "       '1', '0', '0', '0', '0', '0', '1', '0', '0', '0', '1', '0', '0',\n",
       "       '0', '0', '1', '0', '0', '0', '0', '0', '1', '1', '0', '0', '0',\n",
       "       '0', '0', '0', '0', '0', '1', '1', '1', '0', '0', '1', '1', '1',\n",
       "       '0', '0', '0', '1', '0', '0', '0', '1', '1', '0', '0', '1', '1',\n",
       "       '1', '1', '1', '0', '0', '0', '0', '0', '0', '0', '0', '0', '0',\n",
       "       '1', '0', '0', '0', '0', '0', '0', '0', '0', '1', '0', '1', '1',\n",
       "       '0', '0', '0', '1', '0', '0', '0', '0', '1', '1', '0', '0', '0',\n",
       "       '0', '1', '1', '0', '0', '0', '1', '0', '1', '0', '1', '0', '0',\n",
       "       '0', '0', '0', '1', '1', '1', '1', '1', '0', '0', '1', '1', '0',\n",
       "       '1', '0', '1', '1', '1', '0', '0', '0', '0', '0', '0', '1', '1',\n",
       "       '0', '1', '0', '0', '0', '1', '1', '1', '1', '0', '1', '1', '1',\n",
       "       '1', '0', '0', '0', '0', '0', '1', '0', '0', '1', '1', '0', '0',\n",
       "       '0', '1', '1', '1', '1', '0', '0', '0', '1', '1', '0', '1', '0',\n",
       "       '0', '0', '0', '0', '0', '0', '0', '1', '1', '0', '0', '0', '1',\n",
       "       '0', '1', '0', '0', '1', '0', '1', '0', '0', '1', '1', '0', '0',\n",
       "       '0', '0', '0', '1', '0', '0', '0', '1', '0', '0', '1', '1', '0',\n",
       "       '0', '1', '0', '0', '0', '1', '1', '1', '0', '0', '1', '0', '1',\n",
       "       '0', '1', '1', '0', '1', '0', '0', '1', '0', '1', '1', '0', '0',\n",
       "       '1', '0', '1', '0', '0', '1', '0', '1', '0', '1', '1', '1', '0',\n",
       "       '0', '1', '0', '1', '0', '0', '0', '1', '0', '0', '0', '0', '1',\n",
       "       '1', '1', '0', '0', '0', '0', '0', '0', '0', '0', '0', '1', '0',\n",
       "       '0', '0', '0', '0', '1', '1', '1', '0', '1', '1', '0', '0', '1',\n",
       "       '0', '0', '1', '0', '0', '1', '1', '0', '0', '0', '0', '1', '0',\n",
       "       '0', '1', '0', '0', '0', '0', '0', '0', '0', '1', '1', '1', '0',\n",
       "       '0', '1', '0', '0', '1', '0', '0', '1', '0', '1', '1', '0', '1',\n",
       "       '0', '1', '0', '1', '0', '1', '1', '0', '0', '0', '0', '1', '1',\n",
       "       '0', '1', '0', '1', '0', '0', '0', '0', '1', '1', '0', '1', '0',\n",
       "       '1', '0', '0', '0', '0', '0', '1', '0', '0', '0', '0', '1', '0',\n",
       "       '0', '1', '1', '1', '0', '0', '1', '0', '0', '1', '0', '0', '0',\n",
       "       '1', '0', '0', '1', '0', '0', '0', '0', '0', '0', '0', '0', '0',\n",
       "       '1', '0', '0', '0', '0', '0', '0', '0', '1', '0', '0', '0', '1',\n",
       "       '0', '0', '0', '1', '1', '0', '0', '0', '0', '0', '0', '0', '1',\n",
       "       '0', '0', '0', '0', '1', '0', '0', '0', '1', '0', '0', '0', '1',\n",
       "       '0', '0', '0', '1', '0', '0', '0', '0', '1', '1', '0', '0', '0',\n",
       "       '0', '0', '0', '1', '0', '0', '0', '0', '0', '0', '0', '0', '0',\n",
       "       '0', '0', '1', '0', '0', '0', '1', '1', '1', '1', '0', '0', '1',\n",
       "       '1', '0', '0', '0', '0', '0', '0', '0', '0', '0', '0', '0', '0',\n",
       "       '0', '1', '1', '0', '0', '0', '0', '0', '0', '0', '1', '0', '0',\n",
       "       '0', '0', '0', '0', '0', '1', '0', '1', '1', '0', '0', '0', '1',\n",
       "       '0', '1', '0', '1', '0', '1', '0', '1', '0', '0', '1', '0', '0',\n",
       "       '1', '0', '0', '0', '0', '1', '1', '0', '1', '0', '0', '0', '0',\n",
       "       '1', '1', '0', '1', '0', '0', '0', '1', '1', '0', '0', '0', '0',\n",
       "       '0', '0', '0', '0', '0', '0', '1', '0', '0', '0', '0', '1', '0',\n",
       "       '0', '1', '0', '0', '0', '1', '0', '0', '0', '1', '1', '1', '0',\n",
       "       '0', '0', '0', '0', '0', '1', '0', '0', '0', '1', '0', '1', '1',\n",
       "       '1', '1', '0', '1', '1', '0', '0', '0', '0', '0', '0', '0', '1',\n",
       "       '1', '0', '1', '0', '0', '1', '0', '1', '0', '0', '0', '0', '0',\n",
       "       '1', '0', '1', '0', '1', '0', '1', '1', '0', '0', '0', '0', '1',\n",
       "       '1', '0', '0', '0', '1', '0', '1', '1', '0', '0', '1', '0', '0',\n",
       "       '1', '1', '0', '0', '1', '0', '0', '1', '0', '0', '0', '0', '0',\n",
       "       '0', '0', '1', '1', '1', '0', '0', '0', '0', '0', '0', '1', '1',\n",
       "       '0', '0', '1', '0', '0', '1', '0', '1', '1', '1', '0', '0', '1',\n",
       "       '1', '1', '0', '1', '0', '1', '0', '1', '0', '0', '0', '0', '1',\n",
       "       '0'], dtype=object)"
      ]
     },
     "execution_count": 26,
     "metadata": {},
     "output_type": "execute_result"
    }
   ],
   "source": [
    "y=pima['label'].values\n",
    "y"
   ]
  },
  {
   "cell_type": "code",
   "execution_count": 27,
   "id": "662e3ebc",
   "metadata": {},
   "outputs": [],
   "source": [
    "from sklearn.preprocessing import MinMaxScaler"
   ]
  },
  {
   "cell_type": "code",
   "execution_count": 28,
   "id": "61508291",
   "metadata": {},
   "outputs": [],
   "source": [
    "scaler=MinMaxScaler()"
   ]
  },
  {
   "cell_type": "code",
   "execution_count": 29,
   "id": "39926bc1",
   "metadata": {},
   "outputs": [],
   "source": [
    "X=scaler.fit_transform(X)"
   ]
  },
  {
   "cell_type": "code",
   "execution_count": 30,
   "id": "306569fa",
   "metadata": {},
   "outputs": [],
   "source": [
    "# split X and y into training and testing sets\n",
    "X_train,X_test,y_train,y_test=train_test_split(X,y,test_size=0.2,random_state=1)"
   ]
  },
  {
   "cell_type": "code",
   "execution_count": 31,
   "id": "fc6c05b3",
   "metadata": {},
   "outputs": [
    {
     "data": {
      "text/plain": [
       "0.7792207792207793"
      ]
     },
     "execution_count": 31,
     "metadata": {},
     "output_type": "execute_result"
    }
   ],
   "source": [
    "# Trying logistic regression on the dataset\n",
    "logreg = LogisticRegression()\n",
    "logreg.fit(X_train,y_train)\n",
    "logreg.score(X_test,y_test)"
   ]
  },
  {
   "cell_type": "code",
   "execution_count": 32,
   "id": "afe25c33",
   "metadata": {},
   "outputs": [
    {
     "name": "stdout",
     "output_type": "stream",
     "text": [
      "['1']\n",
      "The Person has Diabetes\n"
     ]
    },
    {
     "name": "stderr",
     "output_type": "stream",
     "text": [
      "C:\\Users\\User\\anaconda3\\lib\\site-packages\\sklearn\\base.py:420: UserWarning: X does not have valid feature names, but MinMaxScaler was fitted with feature names\n",
      "  warnings.warn(\n"
     ]
    }
   ],
   "source": [
    "input_data = np.array([[197,70,45,543,30.5,0.158,53]])\n",
    "\n",
    "\n",
    "# standardize the data\n",
    "std_data = scaler.transform(input_data)\n",
    "\n",
    "prediction = logreg.predict(std_data)\n",
    "print(prediction)\n",
    "\n",
    "\n",
    "if (prediction == 0):\n",
    "  print(\"The Person does not have Diabetes\")\n",
    "\n",
    "else:\n",
    "  print(\"The Person has Diabetes\")"
   ]
  }
 ],
 "metadata": {
  "kernelspec": {
   "display_name": "Python 3 (ipykernel)",
   "language": "python",
   "name": "python3"
  },
  "language_info": {
   "codemirror_mode": {
    "name": "ipython",
    "version": 3
   },
   "file_extension": ".py",
   "mimetype": "text/x-python",
   "name": "python",
   "nbconvert_exporter": "python",
   "pygments_lexer": "ipython3",
   "version": "3.10.9"
  }
 },
 "nbformat": 4,
 "nbformat_minor": 5
}
